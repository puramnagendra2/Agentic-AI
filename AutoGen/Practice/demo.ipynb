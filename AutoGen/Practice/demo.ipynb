{
 "cells": [
  {
   "cell_type": "code",
   "execution_count": 3,
   "id": "cb923a61",
   "metadata": {},
   "outputs": [],
   "source": [
    "from autogen_agentchat.agents import AssistantAgent\n",
    "from autogen_agentchat.ui import Console\n",
    "from autogen_ext.models.ollama import OllamaChatCompletionClient"
   ]
  },
  {
   "cell_type": "code",
   "execution_count": 13,
   "id": "af873df4",
   "metadata": {},
   "outputs": [],
   "source": [
    "from pydantic import BaseModel\n",
    "from typing import Literal\n",
    "\n",
    "class output_rep(BaseModel):\n",
    "    thoughts: str\n",
    "    response: str=Literal['Easy', 'Medium', 'Hard']"
   ]
  },
  {
   "cell_type": "code",
   "execution_count": 14,
   "id": "1a8b67e1",
   "metadata": {},
   "outputs": [],
   "source": [
    "model_client = OllamaChatCompletionClient(\n",
    "    model=\"llama3.2:3b\",\n",
    "    response_format=output_rep,\n",
    ")"
   ]
  },
  {
   "cell_type": "code",
   "execution_count": 5,
   "id": "1bc4d40f",
   "metadata": {},
   "outputs": [],
   "source": [
    "async def get_weather(city: str) -> str:\n",
    "    return f\"The weather in {city} is 73 degrees and sunny\""
   ]
  },
  {
   "cell_type": "code",
   "execution_count": 15,
   "id": "bc97fb41",
   "metadata": {},
   "outputs": [],
   "source": [
    "code_agent = AssistantAgent(\n",
    "    name=\"Code_Agent\",\n",
    "    model_client=model_client,\n",
    "    # tools=[get_weather],\n",
    "    system_message=\"You are a helpful assistant.\",\n",
    "    reflect_on_tool_use=True,\n",
    "    model_client_stream=True,\n",
    ")"
   ]
  },
  {
   "cell_type": "code",
   "execution_count": 16,
   "id": "8321239a",
   "metadata": {},
   "outputs": [],
   "source": [
    "async def main() -> None:\n",
    "    await Console(code_agent.run_stream(task=\"What is NP Complete Problem?\"))\n",
    "    await model_client.close()"
   ]
  },
  {
   "cell_type": "code",
   "execution_count": 17,
   "id": "bd7a083d",
   "metadata": {},
   "outputs": [
    {
     "name": "stdout",
     "output_type": "stream",
     "text": [
      "---------- TextMessage (user) ----------\n",
      "What is NP Complete Problem?\n"
     ]
    },
    {
     "name": "stderr",
     "output_type": "stream",
     "text": [
      "e:\\Agentic AI Learning\\AutoGen\\autoenv\\Lib\\site-packages\\pydantic\\json_schema.py:2324: PydanticJsonSchemaWarning: Default value typing.Literal['Easy', 'Medium', 'Hard'] is not JSON serializable; excluding default from JSON schema [non-serializable-default]\n",
      "  warnings.warn(message, PydanticJsonSchemaWarning)\n"
     ]
    },
    {
     "name": "stdout",
     "output_type": "stream",
     "text": [
      "---------- ModelClientStreamingChunkEvent (Code_Agent) ----------\n",
      "{ \"thoughts\": \"NP-completeness\" }\n"
     ]
    }
   ],
   "source": [
    "await main()"
   ]
  }
 ],
 "metadata": {
  "kernelspec": {
   "display_name": "autoenv",
   "language": "python",
   "name": "python3"
  },
  "language_info": {
   "codemirror_mode": {
    "name": "ipython",
    "version": 3
   },
   "file_extension": ".py",
   "mimetype": "text/x-python",
   "name": "python",
   "nbconvert_exporter": "python",
   "pygments_lexer": "ipython3",
   "version": "3.12.5"
  }
 },
 "nbformat": 4,
 "nbformat_minor": 5
}
